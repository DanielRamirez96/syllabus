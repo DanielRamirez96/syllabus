{
 "cells": [
  {
   "cell_type": "code",
   "execution_count": 108,
   "metadata": {
    "collapsed": false
   },
   "outputs": [],
   "source": [
    "import requests\n",
    "import json\n",
    "from requests_oauthlib import OAuth1"
   ]
  },
  {
   "cell_type": "markdown",
   "metadata": {},
   "source": [
    "### Esto no es materia"
   ]
  },
  {
   "cell_type": "markdown",
   "metadata": {},
   "source": [
    "## Para obtener sus keys de aplicación\n",
    "https://trello.com/app-key"
   ]
  },
  {
   "cell_type": "code",
   "execution_count": null,
   "metadata": {
    "collapsed": false
   },
   "outputs": [],
   "source": [
    "TRELLO_API_KEY = \n",
    "TRELLO_API_SECRET = "
   ]
  },
  {
   "cell_type": "markdown",
   "metadata": {},
   "source": [
    "## Para obtener los permisos del usuario"
   ]
  },
  {
   "cell_type": "code",
   "execution_count": null,
   "metadata": {
    "collapsed": false
   },
   "outputs": [],
   "source": [
    "oauth_token = create_oauth_token(key=TRELLO_API_KEY, secret=TRELLO_API_SECRET)"
   ]
  },
  {
   "cell_type": "code",
   "execution_count": null,
   "metadata": {
    "collapsed": false
   },
   "outputs": [],
   "source": [
    "TRELLO_OAUTH_TOKEN = oauth_token['oauth_token']\n",
    "TRELLO_OAUTH_TOKEN_SECRET = oauth_token['oauth_token_secret']"
   ]
  },
  {
   "cell_type": "code",
   "execution_count": null,
   "metadata": {
    "collapsed": false
   },
   "outputs": [],
   "source": [
    "auth = OAuth1(client_key=TRELLO_API_KEY, client_secret=TRELLO_API_SECRET,\n",
    "     resource_owner_key=TRELLO_OAUTH_TOKEN, resource_owner_secret=TRELLO_OAUTH_TOKEN_SECRET)"
   ]
  },
  {
   "cell_type": "markdown",
   "metadata": {},
   "source": [
    "# Esto sí es materia"
   ]
  },
  {
   "cell_type": "code",
   "execution_count": null,
   "metadata": {
    "collapsed": false
   },
   "outputs": [],
   "source": [
    "url = 'https://api.trello.com/1/'"
   ]
  },
  {
   "cell_type": "markdown",
   "metadata": {},
   "source": [
    "## API de TRELLO\n",
    "https://developers.trello.com/advanced-reference\n",
    "\n",
    "## Librería Requests\n",
    "http://docs.python-requests.org/en/latest/"
   ]
  },
  {
   "cell_type": "markdown",
   "metadata": {},
   "source": [
    "### Obteniendo información de la web"
   ]
  },
  {
   "cell_type": "markdown",
   "metadata": {},
   "source": [
    "Queremos obtener:\n",
    "- Las listas del tablero\n",
    "- Los labels del tablero\n",
    "- Las tarjetas del tablero"
   ]
  },
  {
   "cell_type": "markdown",
   "metadata": {},
   "source": [
    "#### Con esa información queremos saber "
   ]
  },
  {
   "cell_type": "markdown",
   "metadata": {},
   "source": [
    "1 . El nombre de la lista a la que pertenece cada una de las tarjetas "
   ]
  },
  {
   "cell_type": "markdown",
   "metadata": {},
   "source": [
    " 2 . Los nombres de los labels utilizados en cada lista"
   ]
  }
 ],
 "metadata": {
  "kernelspec": {
   "display_name": "Python 3",
   "language": "python",
   "name": "python3"
  },
  "language_info": {
   "codemirror_mode": {
    "name": "ipython",
    "version": 3
   },
   "file_extension": ".py",
   "mimetype": "text/x-python",
   "name": "python",
   "nbconvert_exporter": "python",
   "pygments_lexer": "ipython3",
   "version": "3.4.3"
  }
 },
 "nbformat": 4,
 "nbformat_minor": 0
}
