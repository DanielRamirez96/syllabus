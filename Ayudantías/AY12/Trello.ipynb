{
 "cells": [
  {
   "cell_type": "code",
   "execution_count": null,
   "metadata": {
    "collapsed": false
   },
   "outputs": [],
   "source": [
    "import requests\n",
    "import json\n",
    "from requests_oauthlib import OAuth1\n",
    "from util import create_oauth_token"
   ]
  },
  {
   "cell_type": "markdown",
   "metadata": {},
   "source": [
    "# Ayudantía 12\n",
    "\n",
    "Para realizar esta actividad deben tener una cuenta en trello. "
   ]
  },
  {
   "cell_type": "markdown",
   "metadata": {},
   "source": [
    "## Autentificaciones\n",
    "Vamos a utilizar un servicio que requiere autentificarse. \n",
    "### Para obtener sus keys de aplicación entren al sitio https://trello.com/app-key\n",
    "Les darán un api key y una api secret. Pongan eso en las variables de abajo"
   ]
  },
  {
   "cell_type": "code",
   "execution_count": null,
   "metadata": {
    "collapsed": false
   },
   "outputs": [],
   "source": [
    "TRELLO_API_KEY = \n",
    "TRELLO_API_SECRET = "
   ]
  },
  {
   "cell_type": "markdown",
   "metadata": {},
   "source": [
    "### Para obtener los permisos del usuario ejecuten esta línea"
   ]
  },
  {
   "cell_type": "code",
   "execution_count": null,
   "metadata": {
    "collapsed": false
   },
   "outputs": [],
   "source": [
    "oauth_token = create_oauth_token(key = TRELLO_API_KEY, secret = TRELLO_API_SECRET)"
   ]
  },
  {
   "cell_type": "code",
   "execution_count": null,
   "metadata": {
    "collapsed": false
   },
   "outputs": [],
   "source": [
    "TRELLO_OAUTH_TOKEN = oauth_token['oauth_token']\n",
    "TRELLO_OAUTH_TOKEN_SECRET = oauth_token['oauth_token_secret']"
   ]
  },
  {
   "cell_type": "markdown",
   "metadata": {},
   "source": [
    "### Esta variable debeb utilizarla para autentificarse y hacer modificaciones en sus tableros"
   ]
  },
  {
   "cell_type": "code",
   "execution_count": null,
   "metadata": {
    "collapsed": false
   },
   "outputs": [],
   "source": [
    "auth = OAuth1(client_key=TRELLO_API_KEY, client_secret=TRELLO_API_SECRET,\n",
    "     resource_owner_key=TRELLO_OAUTH_TOKEN, resource_owner_secret=TRELLO_OAUTH_TOKEN_SECRET)"
   ]
  },
  {
   "cell_type": "markdown",
   "metadata": {},
   "source": [
    "## Hagamos requests :)"
   ]
  },
  {
   "cell_type": "code",
   "execution_count": null,
   "metadata": {
    "collapsed": false
   },
   "outputs": [],
   "source": [
    "url = 'https://api.trello.com/1' # URL del servicio"
   ]
  },
  {
   "cell_type": "markdown",
   "metadata": {},
   "source": [
    "###Links útiles\n",
    "#### API de TRELLO\n",
    "https://developers.trello.com/advanced-reference\n",
    "\n",
    "##### Librería Requests\n",
    "http://docs.python-requests.org/en/latest/\n",
    "### Obteniendo información de la web\n",
    "####Queremos obtener:\n",
    "- Las listas del tablero\n",
    "- Los labels del tablero\n",
    "- Las tarjetas del tablero"
   ]
  },
  {
   "cell_type": "markdown",
   "metadata": {},
   "source": [
    "### Opción 1"
   ]
  },
  {
   "cell_type": "code",
   "execution_count": null,
   "metadata": {
    "collapsed": false
   },
   "outputs": [],
   "source": [
    "url_lists = url + '/boards'+ '/nTepCisO' + '/lists'\n",
    "response = requests.get(url_lists, auth=auth)\n",
    "lists = response.json()"
   ]
  },
  {
   "cell_type": "code",
   "execution_count": null,
   "metadata": {
    "collapsed": false
   },
   "outputs": [],
   "source": [
    "url_labels = url + '/boards' + '/nTepCisO' + '/labels'\n",
    "response = requests.get(url_labels, auth=auth)\n",
    "labels = response.json()"
   ]
  },
  {
   "cell_type": "code",
   "execution_count": null,
   "metadata": {
    "collapsed": false
   },
   "outputs": [],
   "source": [
    "url_cards = url + '/boards' + '/nTepCisO' + '/cards'\n",
    "response = requests.get(url_cards, auth=auth)\n",
    "cards = response.json()"
   ]
  },
  {
   "cell_type": "markdown",
   "metadata": {},
   "source": [
    "### Opción 2"
   ]
  },
  {
   "cell_type": "code",
   "execution_count": null,
   "metadata": {
    "collapsed": true
   },
   "outputs": [],
   "source": [
    "response = requests.request('GET', url_board + '/lists',auth=auth)\n",
    "lists = response.json()"
   ]
  },
  {
   "cell_type": "code",
   "execution_count": null,
   "metadata": {
    "collapsed": true
   },
   "outputs": [],
   "source": [
    "response = requests.request('GET', url_board + '/labels',auth=auth)\n",
    "labels = response.json()"
   ]
  },
  {
   "cell_type": "code",
   "execution_count": null,
   "metadata": {
    "collapsed": false
   },
   "outputs": [],
   "source": [
    "response = requests.request('GET', url_board + '/cards',auth=auth)\n",
    "cards = response.json()"
   ]
  },
  {
   "cell_type": "markdown",
   "metadata": {},
   "source": [
    "#### Con esa información queremos saber "
   ]
  },
  {
   "cell_type": "markdown",
   "metadata": {},
   "source": [
    "1 . El nombre de la lista a la que pertenece cada una de las tarjetas "
   ]
  },
  {
   "cell_type": "code",
   "execution_count": null,
   "metadata": {
    "collapsed": false
   },
   "outputs": [],
   "source": [
    "def find_list(lists, id_):\n",
    "    for l in lists:\n",
    "        if l['id'] == id_:\n",
    "            return l['name']\n",
    "        \n",
    "for c in cards:\n",
    "    list_name = find_list(lists, c['idList'])\n",
    "    print(c['name'] + ' está en la lista ' + list_name)"
   ]
  },
  {
   "cell_type": "markdown",
   "metadata": {},
   "source": [
    "2 . Los nombres de los labels utilizados en cada lista"
   ]
  },
  {
   "cell_type": "code",
   "execution_count": null,
   "metadata": {
    "collapsed": false
   },
   "outputs": [],
   "source": [
    "def find_label(labels, id_):\n",
    "    for l in labels:\n",
    "        if l['id'] == id_:\n",
    "            return l['name']\n",
    "\n",
    "labels_in_lists = {}\n",
    "\n",
    "for l in lists:\n",
    "    cards_in_list = list(filter(lambda x: x['idList']==l['id'], cards))\n",
    "    labels_in_lists.update({l['id']: []})\n",
    "    for c in cards_in_list:\n",
    "        labels_in_lists[l['id']].extend(c['idLabels'])\n",
    "\n",
    "for id_, l in labels_in_lists.items():\n",
    "    list_name = find_list(lists, id_)\n",
    "    print('En lista ' + list_name + ' están los siguientes labels: ')\n",
    "    for label_id in l:\n",
    "        label_name = find_label(labels, label_id)\n",
    "        print(' ' + label_name)\n",
    "    "
   ]
  },
  {
   "cell_type": "markdown",
   "metadata": {},
   "source": [
    "### Enviando información a la web\n",
    "Qué pasa si queremos agregar tarjetas a la web?"
   ]
  },
  {
   "cell_type": "code",
   "execution_count": null,
   "metadata": {
    "collapsed": false
   },
   "outputs": [],
   "source": [
    "def add_card(name, list_id, labels_id ,desc=None, due=None):\n",
    "    post_args={'name': name, 'idList': list_id, 'desc': desc, 'idLabels': labels_id, 'due': due}\n",
    "    data = json.dumps(post_args) # El contenido del post \n",
    "    headers = {}\n",
    "    headers['Content-Type'] = 'application/json; charset=utf-8' # El header de la request\n",
    "    response = requests.request('POST', url + '/cards',data=data, headers=headers, auth=auth)\n",
    "    # response = requests.post(url + '/cards, headers=header, data=data, auth=auth)\n",
    "    return response.status_code"
   ]
  },
  {
   "cell_type": "code",
   "execution_count": null,
   "metadata": {
    "collapsed": false
   },
   "outputs": [],
   "source": [
    "add_card('Hola', '5648d215c2f82b0b11ede108', ['5648d1e019ad3a5dc2274ce4'])"
   ]
  },
  {
   "cell_type": "code",
   "execution_count": null,
   "metadata": {
    "collapsed": false
   },
   "outputs": [],
   "source": []
  }
 ],
 "metadata": {
  "kernelspec": {
   "display_name": "Python 3",
   "language": "python",
   "name": "python3"
  },
  "language_info": {
   "codemirror_mode": {
    "name": "ipython",
    "version": 3
   },
   "file_extension": ".py",
   "mimetype": "text/x-python",
   "name": "python",
   "nbconvert_exporter": "python",
   "pygments_lexer": "ipython3",
   "version": "3.4.3"
  }
 },
 "nbformat": 4,
 "nbformat_minor": 0
}
