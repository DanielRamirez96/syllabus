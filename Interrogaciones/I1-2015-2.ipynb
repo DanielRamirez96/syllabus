{
 "cells": [
  {
   "cell_type": "markdown",
   "metadata": {},
   "source": [
    "# PAUTA I1-2015-2"
   ]
  },
  {
   "cell_type": "markdown",
   "metadata": {},
   "source": [
    "# Pregunta 1\n",
    "> (20 ptos)\n",
    "\n",
    "La empresa ferroviaria **_TrenAlSur_** tiene una flota de trenes que se componen de una locomotora y un número determinado de vagones. Una locomotora tiene como característica el número de locomotora y el tipo de motor que utiliza, los que pueden ser de dos tipos: eléctrico o diésel. Los vagones tienen un número identificador que es asignado correlativamente cuando se asocian a los vagones a cada tren. La empresa tiene dos tipos de trenes: **tren de pasajeros** y **tren de carga**.  Ambos tipos de trenes poseen una capacidad, el que para los trenes de pasajeros corresponde al número de pasajeros y para el tren de carga corresponde la carga en kilo que transporta.\n",
    "\n",
    "El número de vagones del tren de pasajeros corresponde a la parte entera del cociente entre el número de pasajeros que abordará el tren sobre la capacidad máxima de pasajeros que admitida por cada vagón. Esto significa que si excede la capacidad máxima, el resto de pasajeros no podrá abordar el tren. Si ocurre esta situación se debe desplegar el mensaje informando que hubo *X* pasajeros que no podrán abordar el tren. El número de vagones del tren de carga debe ser suficiente para llevar toda la carga, sin que sobre nada.\n",
    "\n",
    "Se requiere de un programa que estructure toda esta información usando **programación orientada a objetos (OOP)**. Usted debe implementar las clases necesarias, con sus respectivos datos y métodos. Haga los supuestos que considere necesarios. Además, para el modelamiento usted debe implementar la *\"suma\"* de trenes. En el caso de sumar dos trenes de carga debe retornar un tren con la suma de las capacidades (en peso) de ambos trenes y el tipo de locomotora del primer tren de la suma. En el caso de sumar dos trenes de pasajeros, debe retornar un nuevo tren con la suma de las capacidades de ambos trenes y la locomotora del segundo tren de la suma. La capacidad máxima de los vagones de pasajeros son 60 pasajeros y la capacidades máxima de los vagones del tren de carga es de 2000 Kg. Se le pide también implementar el despliegue de la información de cada tren cada vez que se utilice la sentencia `print` sobre un tren cualquiera. La información a desplegar es: tipo de tren, tipo de locomotora y el número de vagones.\n"
   ]
  },
  {
   "cell_type": "code",
   "execution_count": 1,
   "metadata": {
    "collapsed": true
   },
   "outputs": [],
   "source": [
    "class EmpresaFerroviaria:\n",
    "    def __init__(self, trenes):\n",
    "        self.trenes = trenes\n",
    "\n",
    "\n",
    "class Tren:\n",
    "    def __init__(self, locomotora, vagones=None):\n",
    "        self.locomotora = locomotora\n",
    "        self.vagones = vagones if vagones else []\n",
    "\n",
    "    def cargar(self, carga):\n",
    "        pass\n",
    "\n",
    "    @property\n",
    "    def capacidad(self):\n",
    "        return sum([vagon.capacidad for vagon in self.vagones])\n",
    "\n",
    "    def __repr__(self):\n",
    "        return \"Tren: {} | {} | {}\".format(self.__class__,\n",
    "                                           self.locomotora,\n",
    "                                           len(self.vagones))\n",
    "\n",
    "\n",
    "class TrenDePasajeros(Tren):\n",
    "\n",
    "    def cargar(self, pasajeros):\n",
    "        # Creamos los vagones. Usamos la funcion floor (piso)\n",
    "        cantidad = math.floor(pasajeros / VagonDePasajeros.CAPACIDAD_MAXIMA)\n",
    "        self.vagones = [VagonDePasajeros(numero=i) for i in range(cantidad)]\n",
    "\n",
    "        # Se llenan\n",
    "        for vagon in self.vagones:\n",
    "            vagon.cargar(VagonDePasajeros.CAPACIDAD_MAXIMA)\n",
    "\n",
    "        # No todos pudieron entrar\n",
    "        afuera = pasajeros - VagonDePasajeros.CAPACIDAD_MAXIMA * cantidad\n",
    "        if afuera > 0:\n",
    "            print(\"Hubo {} pasajeros no podrán abordar el tren\".format(afuera))\n",
    "\n",
    "    def __add__(self, other):\n",
    "        tren = TrenDePasajeros(locomotora=other.locomotora)\n",
    "        tren.cargar(self.capacidad + other.capacidad)\n",
    "        return tren\n",
    "\n",
    "\n",
    "class TrenDeCarga(Tren):\n",
    "\n",
    "    def cargar(self, carga):\n",
    "        # Creamos los vagones. Usamos la funcion ceil (techo)\n",
    "        cantidad = math.ceil(carga / VagonDeCarga.CAPACIDAD_MAXIMA)\n",
    "        self.vagones = [VagonDeCarga(numero=i) for i in range(cantidad)]\n",
    "\n",
    "        # Se van llenando hasta que se acaba la carga\n",
    "        for vagon in self.vagones:\n",
    "            vagon.cargar(min(carga, VagonDeCarga.CAPACIDAD_MAXIMA))\n",
    "            carga -= VagonDeCarga.CAPACIDAD_MAXIMA\n",
    "\n",
    "    def __add__(self, other):\n",
    "        tren = TrenDeCarga(locomotora=self.locomotora)\n",
    "        tren.cargar(self.capacidad + other.capacidad)\n",
    "        return tren\n",
    "\n",
    "\n",
    "class Locomotora:\n",
    "    def __init__(self, numero, motor):\n",
    "        self.numero = numero\n",
    "        self.motor = motor\n",
    "\n",
    "    def __repr__(self):\n",
    "        return \"Locomotora #{}: {}\".format(self.numero, self.motor)\n",
    "\n",
    "\n",
    "class Vagon:\n",
    "\n",
    "    def __init__(self, numero, capacidad=0):\n",
    "        self.numero = numero\n",
    "        self.capacidad = capacidad\n",
    "\n",
    "    def cargar(self, cantidad=1):\n",
    "        self.capacidad += cantidad\n",
    "\n",
    "\n",
    "class VagonDePasajeros(Vagon):\n",
    "    CAPACIDAD_MAXIMA = 60  # pasajeros\n",
    "\n",
    "\n",
    "class VagonDeCarga(Vagon):\n",
    "    CAPACIDAD_MAXIMA = 2000  # kg\n",
    "\n",
    "\n",
    "class Motor:\n",
    "    def __repr__(self):\n",
    "        return \"Motor tipo: {}\".format(self.__class__)\n",
    "\n",
    "\n",
    "class MotorElectrico(Motor):\n",
    "    pass\n",
    "\n",
    "\n",
    "class MotorDiesel(Motor):\n",
    "    pass\n"
   ]
  },
  {
   "cell_type": "markdown",
   "metadata": {},
   "source": [
    "### Distribución de puntaje:\n",
    "\n",
    "| Requerimiento | Puntaje         |\n",
    "| :------------ |:---------------:|\n",
    "| Identificación de clases `EmpresaFerroviaria`, `Tren`, `Locomotora` y `Vagon`| 4 pts |\n",
    "| Uso de herencia y polimorfismo en `Tren` | 4 pts |\n",
    "| Implementación del cargado de vagones | 4 pts |\n",
    "| Implementación método `__add__` | 4 pts |\n",
    "| Implementación método `__repr__` o `__str__` | 2 pts |\n",
    "| Correcta modelación para `Motor` y `Locomotora` | 2 pts|\n",
    "\n",
    "No es necesario declarar `Motor` y los otros tipos de motor como clase, pues no se menciona que tengan **comportamiento**. Tampoco se necesario hacer subclases para `Vagon`.\n",
    "\n",
    "El uso de `if` para comprar tipos de objetos está fuertemente desaconsejado."
   ]
  },
  {
   "cell_type": "markdown",
   "metadata": {},
   "source": [
    "# Pregunta 2"
   ]
  },
  {
   "cell_type": "markdown",
   "metadata": {},
   "source": [
    "[...]\n",
    "\n",
    "Para esta pregunta usted debe implementar una metaclase que haga que una clase sea abstracta, es decir, que no pueda ser instanciada directamente, además, cada vez que el programador agregue a un método una clase abstracta el decorador \"abstracta\" (`@abstract`), la metaclase debe asegurarse de que la subclase tenga implementado ese método (asumiremos que aunque contenga `pass` se considera como implementado).\n",
    "\n",
    "Tips:\n",
    "- Si usted solo interrumpe la llamada a la creación de la instancia además de no poder instanciar la clase no se va a poder tampoco instanciar a ninguna de sus subclases.\n",
    "- Cuando usted decora una función, el atributo `__name__` de la función decorada pasa a llamarse como se llama el decorador, aquí va un ejemplo:"
   ]
  },
  {
   "cell_type": "code",
   "execution_count": 2,
   "metadata": {
    "collapsed": false
   },
   "outputs": [
    {
     "name": "stdout",
     "output_type": "stream",
     "text": [
      "{'__init__': <function Ejemplo.__init__ at 0x1087dda60>, '__dict__': <attribute '__dict__' of 'Ejemplo' objects>, 'deco': <function Ejemplo.deco at 0x1087dd9d8>, 'fun1': <function Ejemplo.deco.<locals>._f at 0x1087dd950>, '__weakref__': <attribute '__weakref__' of 'Ejemplo' objects>, '__doc__': None, '__module__': '__main__'}\n",
      "deco\n",
      "_f\n"
     ]
    }
   ],
   "source": [
    "class Ejemplo:\n",
    "    def __init__(self, a, b):\n",
    "        self.a = a\n",
    "        self.b = b\n",
    "    \n",
    "    def deco(f):\n",
    "        # hacer algo\n",
    "        def _f(*args):\n",
    "            return f(*args)\n",
    "        return _f\n",
    "    \n",
    "    @deco\n",
    "    def fun1(self):\n",
    "        pass\n",
    "\n",
    "print(Ejemplo.__dict__)\n",
    "print(Ejemplo.__dict__[\"deco\"].__name__)\n",
    "print(Ejemplo.__dict__[\"fun1\"].__name__)"
   ]
  },
  {
   "cell_type": "markdown",
   "metadata": {},
   "source": [
    "## Solución\n",
    "Una posible solución es:"
   ]
  },
  {
   "cell_type": "code",
   "execution_count": 3,
   "metadata": {
    "collapsed": true
   },
   "outputs": [],
   "source": [
    "class Abstract(type):\n",
    "    def __new__(metacls, name, bases, clsdict):\n",
    "        _abstract_methods = {k for k, v in clsdict.items() if getattr(v, '_is_abstract', False)}\n",
    "        _is_abstract = True\n",
    "        for base in bases:\n",
    "            if type(base) == metacls:\n",
    "                _is_abstract = False\n",
    "        clsdict['_is_abstract'] = _is_abstract\n",
    "        if _is_abstract:\n",
    "            clsdict['_abstract_methods'] = _abstract_methods\n",
    "        return super().__new__(metacls, name, bases, clsdict)\n",
    "\n",
    "    def __call__(cls, *args, **kwargs):\n",
    "        if cls._is_abstract:\n",
    "            raise Exception(\"ERROR! no se puede instanciar una clase abstracta!\")\n",
    "        for name in cls._abstract_methods:\n",
    "            method = getattr(cls, name)\n",
    "            if getattr(method, '_is_abstract', False):\n",
    "                raise Exception(\"ERROR! debe implementar el método\", name)\n",
    "        return super().__call__(*args, **kwargs)\n",
    "\n",
    "def abstract(f):\n",
    "    f._is_abstract = True\n",
    "    return f"
   ]
  },
  {
   "cell_type": "markdown",
   "metadata": {
    "collapsed": true
   },
   "source": [
    "### Distribución de puntaje\n",
    "\n",
    "| **Requerimiento** | **Puntaje** |\n",
    "| ------------------| ------------|\n",
    "| Decorador `abstract` que permita distinguir un método abstracto | 2 |\n",
    "| Interferir la creación de la clase con `__new__` en la Metaclase | 2 |\n",
    "| Decidir si la clase es abstracta o no. *Nota: Se admite la suposición de que una clase abstracta no hereda de otra abstracta* | 3 |\n",
    "| Decidir si la clase contiene métodos abstractos en caso de que la clase sea abstracta | 3 |\n",
    "| Interferir la instanciación de la clase con `__call__` en la Metaclase | 2 |\n",
    "| No permitir instanciar y lanzar error si la clase es abstracta | 3 |\n",
    "| No permitir instanciar y lanzar error si la clase hereda de una abstracta y no ha implementado algún método abstracto | 3 |\n",
    "| Permitir instanciar solo si no se cumple alguno de los casos anteriores | 2 |\n",
    "| **Total** | **20**"
   ]
  },
  {
   "cell_type": "markdown",
   "metadata": {},
   "source": [
    "# Pregunta 3\n",
    "> 20 pts\n",
    "\n",
    "Se define un árbol completo como un árbol que tiene L niveles y por cada nivel tiene N hijos. Diseñe un algoritmo que, dado un valor para L y N, permita crear un árbol completo. Cada nodo hoja debe contener un valor aleatorio, y cada nodo interno del árbol debe contener la suma de sus nodos hijos. Implemente además el método para imprimir jerárquicamente el árbol generado, donde se distingan espaciadamente los distintos niveles.\n"
   ]
  },
  {
   "cell_type": "code",
   "execution_count": 4,
   "metadata": {
    "collapsed": false
   },
   "outputs": [
    {
     "name": "stdout",
     "output_type": "stream",
     "text": [
      "456\n",
      "\t50\n",
      "\t\t17\n",
      "\t\t8\n",
      "\t\t25\n",
      "\t272\n",
      "\t\t99\n",
      "\t\t95\n",
      "\t\t78\n",
      "\t134\n",
      "\t\t42\n",
      "\t\t19\n",
      "\t\t73\n"
     ]
    }
   ],
   "source": [
    "import random\n",
    "\n",
    "\n",
    "class Arbol:\n",
    "\n",
    "    def __init__(self, L, N):\n",
    "        self.val = 0\n",
    "        self.hijos = []\n",
    "\n",
    "        if L == 0:\n",
    "            self.val = random.randint(0, 100)\n",
    "            return\n",
    "\n",
    "        for i in range(N):\n",
    "            hijo = Arbol(L - 1, N)\n",
    "            self.hijos.append(hijo)\n",
    "            self.val += hijo.val\n",
    "\n",
    "    def __repr__(self, sep=\"\"):\n",
    "        s = sep + str(self.val)\n",
    "        for hijo in self.hijos:\n",
    "            s += \"\\n\" + hijo.__repr__(\"\\t\" + sep)\n",
    "        return s\n",
    "\n",
    "a = Arbol(2, 3)\n",
    "print(a)"
   ]
  },
  {
   "cell_type": "markdown",
   "metadata": {},
   "source": [
    "##### Explicación\n",
    "Lo correcto, como se ve en la solución es implementar el árbol donde **cada nodo** tiene hasta N hijos. Se consideró correcto el implementar el álgoritmo de forma que **cada nivel** tenga un máximo de N hijos, pero asignando un puntaje máximo de 18 puntos."
   ]
  },
  {
   "cell_type": "markdown",
   "metadata": {},
   "source": [
    "### Distribución de puntaje:\n",
    "\n",
    "**Respuesta esperada (*L niveles, N hijos por nodo interno*): 20 puntos**\n",
    "\n",
    "| Requerimiento | Puntaje |\n",
    "| :------------ |:---------------:|\n",
    "| Respetar número de niveles `L` | 3 pts |\n",
    "| Respetar número de hijos `N` | 2 pts |\n",
    "| Asignar valor aleatorio a nodos hoja | 2 pts |\n",
    "| Cálculo de valor en nodos internos | 6 pts |\n",
    "| Imprimir el árbol jerárquicamente | 5 pts |\n",
    "| Algoritmo (usa la estructura) | 2 pts |\n",
    "| **Total** | **20 pts** |\n",
    "\n",
    "**Respuesta parcial (*L niveles, N hijos por nivel*): 18 puntos**\n",
    "\n",
    "| Requerimiento | Puntaje |\n",
    "| :------------ |:---------------:|\n",
    "| Respetar número de niveles `L` | 3 pts |\n",
    "| Asignar valor aleatorio a nodos hoja | 2 pts |\n",
    "| Valor correcto en nodos internos | 6 pts |\n",
    "| Imprimir el árbol jerárquicamente | 5 pts |\n",
    "| Algoritmo (usa la estructura) | 2 pts |\n",
    "| **Total** | **18 pts** |"
   ]
  },
  {
   "cell_type": "markdown",
   "metadata": {},
   "source": [
    "# Pregunta 4"
   ]
  },
  {
   "cell_type": "markdown",
   "metadata": {},
   "source": [
    "**a)** (10 pts) Escriba una función recursiva que aplique una función cualquiera recibida como argumento a una lista anidada que contiene listas de números enteros.  "
   ]
  },
  {
   "cell_type": "code",
   "execution_count": 5,
   "metadata": {
    "collapsed": true
   },
   "outputs": [],
   "source": [
    "def tu_func(funcion, datos_anidados):\n",
    "    resultado = []\n",
    "    for d in datos_anidados:\n",
    "        if isinstance(d,list):\n",
    "            resultado.append(tu_func(funcion, d))\n",
    "        else:\n",
    "            resultado.append(funcion(d))\n",
    "    return resultado                  "
   ]
  },
  {
   "cell_type": "code",
   "execution_count": 6,
   "metadata": {
    "collapsed": false
   },
   "outputs": [
    {
     "name": "stdout",
     "output_type": "stream",
     "text": [
      "[1, 4, [9, 16, [9, 25]]]\n"
     ]
    }
   ],
   "source": [
    "print(tu_func(lambda x: x*x, [1,2,[3,4,[3,5]]]))"
   ]
  },
  {
   "cell_type": "markdown",
   "metadata": {},
   "source": [
    "### Distribución de puntaje\n",
    "2.5 puntos por cada item\n",
    "- Retornar un resultado que incluya el resultado de la llamada recursiva\n",
    "- Agregar al resultado la ejecución de ```funcion```\n",
    "- Recorrer la lista con un ```for``` o similar\n",
    "- Realizar llamada recursiva solo si el tipo del elemento es ```list```"
   ]
  },
  {
   "cell_type": "markdown",
   "metadata": {},
   "source": [
    "**b)** (10 pts) ¿Qué se imprime exactamente en el `print` al final del siguiente código?"
   ]
  },
  {
   "cell_type": "code",
   "execution_count": 7,
   "metadata": {
    "collapsed": false
   },
   "outputs": [
    {
     "name": "stdout",
     "output_type": "stream",
     "text": [
      "[[25], [16], [36, 100], [49]]\n"
     ]
    }
   ],
   "source": [
    "f1 = lambda x: (x+1)**2\n",
    "v1 = [[1,2,4],[1,3],[2,5,9],[1,6]]\n",
    "v2 = list(map(lambda y: list(filter(lambda x: x>10, list(map(f1,y)))),v1))\n",
    "print(v2)"
   ]
  },
  {
   "cell_type": "markdown",
   "metadata": {},
   "source": [
    "##### Explicación\n",
    "```python\n",
    "list(\n",
    "    map(lambda y: \n",
    "            list(\n",
    "                filter(\n",
    "                    # 2) si estos números son mayores a 10, entonces se quedan\n",
    "                    lambda x: x>10,\n",
    "                    list(\n",
    "                        # 1) A cada número de una lista de v1 le aplicamos f1\n",
    "                        map(f1,y)\n",
    "                    )\n",
    "                )\n",
    "            )\n",
    "        ,v1) # 3) repetir para cada una de las listas de v1\n",
    "    )\n",
    "```"
   ]
  },
  {
   "cell_type": "markdown",
   "metadata": {},
   "source": [
    "### Distribución de puntaje\n",
    "##### Si identificó outputs intermedios\n",
    "- 2.5 puntos por identificar cada paso `1)`, `2)` y `3)`.\n",
    "\n",
    "##### Si solo imprimió el resultado \n",
    "- 2.5 por cada lista.\n",
    "\n",
    "##### Si no dejó la estructura de lista pero los valores están bien\n",
    "- 1.25 por cada lista."
   ]
  },
  {
   "cell_type": "markdown",
   "metadata": {},
   "source": [
    "**c)** (10 pts) ¿Qué se imprime en el print al final del siguiente código?"
   ]
  },
  {
   "cell_type": "code",
   "execution_count": 8,
   "metadata": {
    "collapsed": false
   },
   "outputs": [
    {
     "name": "stdout",
     "output_type": "stream",
     "text": [
      "[['a', 'b', 'c'], ['a', 'c', 'b'], ['b', 'a', 'c'], ['b', 'c', 'a'], ['c', 'a', 'b'], ['c', 'b', 'a']]\n"
     ]
    }
   ],
   "source": [
    "def f2(b, item):\n",
    "    lc = b[:]\n",
    "    lc.remove(item)\n",
    "    return lc\n",
    "\n",
    "def f1(a):\n",
    "    if len(a) == 0:\n",
    "        return [[]]\n",
    "    return [[x] + y for x in a for y in f1(f2(a,x))]\n",
    "\n",
    "print(f1([\"a\",\"b\",\"c\"]))"
   ]
  },
  {
   "cell_type": "markdown",
   "metadata": {},
   "source": [
    "##### Explicación\n",
    "``` python \n",
    "# Esta función solo elimina un elemento específico de la lista\n",
    "def f2(b, item):\n",
    "    lc = b[:]\n",
    "    lc.remove(item)\n",
    "    return lc\n",
    "\n",
    "# Esta función entrega todas las permutaciones del conjunto a\n",
    "def f1(a):\n",
    "    if len(a) == 0:\n",
    "        return [[]]\n",
    "    return [[x] + y for x in a for y in f1(f2(a,x))]\n",
    "    # La llamada f1(f2(a,x)) lo que hace es buscar TODAS las combinaciones de del conjunto a-x\n",
    "     \n",
    "\n",
    "print(f1([\"a\",\"b\",\"c\"]))\n",
    "```"
   ]
  },
  {
   "cell_type": "markdown",
   "metadata": {},
   "source": [
    "### Distribución de puntaje\n",
    "- 1.5 por cada lista\n",
    "- 1 si el orden es correcto"
   ]
  },
  {
   "cell_type": "markdown",
   "metadata": {},
   "source": [
    "**d)** (10 pts) Implemente un decorador que haga que la función decorada sea re-ejecutada $n$ veces con intervalos de espera de $s$ segundos cada vez que la función decorada retorna ```False```. Considere que $n$ y $s$ son parámetros del decorador. "
   ]
  },
  {
   "cell_type": "markdown",
   "metadata": {},
   "source": [
    "### Explicación\n",
    "Se tomaron como correctas las siguientes tres opciones."
   ]
  },
  {
   "cell_type": "markdown",
   "metadata": {},
   "source": [
    "### Opción 1\n",
    "Cada vez que la función retorna `False`, debo ejecutar la función `n` veces más"
   ]
  },
  {
   "cell_type": "code",
   "execution_count": 9,
   "metadata": {
    "collapsed": true
   },
   "outputs": [],
   "source": [
    "import time\n",
    "import random\n",
    "\n",
    "def construir_decorador(n, s):\n",
    "    print(\"Creando decorador\")\n",
    "    def decorador(f):\n",
    "        print(\"Decorando función\")\n",
    "        def nueva_funcion(*args, **kwargs):\n",
    "            resultado = f(args, kwargs)\n",
    "            false_counter = n\n",
    "            counter = 0\n",
    "            while not resultado or counter < false_counter:\n",
    "                time.sleep(s)\n",
    "                resultado = f(args, kwargs)\n",
    "                counter += 1\n",
    "                if not resultado:\n",
    "                    false_counter += n\n",
    "            return resultado\n",
    "        return nueva_funcion\n",
    "    print(\"Se ha construido el decorador\")\n",
    "    return decorador"
   ]
  },
  {
   "cell_type": "markdown",
   "metadata": {},
   "source": [
    "### Opción 2\n",
    "Si da `False` la primera vez, entonces debo ejecutar la función hasta que sea `True` o hasta que la haya ejecutado `n` veces"
   ]
  },
  {
   "cell_type": "code",
   "execution_count": 10,
   "metadata": {
    "collapsed": false
   },
   "outputs": [],
   "source": [
    "import time\n",
    "import random\n",
    "\n",
    "def construir_decorador(n, s):\n",
    "    print(\"Creando decorador\")\n",
    "    def decorador(f):\n",
    "        print(\"Decorando función\")\n",
    "        def nueva_funcion(*args, **kwargs):\n",
    "            resultado = f(args, kwargs)\n",
    "            counter = 0\n",
    "            while not resultado and counter < n:\n",
    "                time.sleep(s)\n",
    "                resultado = f(args, kwargs)\n",
    "                counter += 1\n",
    "            return resultado # No importaba si retornaba un resultado nueva_funcion\n",
    "        return nueva_funcion\n",
    "    print(\"Se ha construido el decorador\")\n",
    "    return decorador"
   ]
  },
  {
   "cell_type": "markdown",
   "metadata": {},
   "source": [
    "### Opción 3\n",
    "Si la primera es `False`, entonces se ejecuta la función `n` veces"
   ]
  },
  {
   "cell_type": "code",
   "execution_count": 11,
   "metadata": {
    "collapsed": true
   },
   "outputs": [],
   "source": [
    "import time\n",
    "import random\n",
    "\n",
    "def construir_decorador(n, s):\n",
    "    print(\"Creando decorador\")\n",
    "    def decorador(f):\n",
    "        print(\"Decorando función\")\n",
    "        def nueva_funcion(*args, **kwargs):\n",
    "            resultado = f(args, kwargs)\n",
    "            if not resultado:\n",
    "                for i in range(n):\n",
    "                    time.sleep(s)\n",
    "                    f(args, kwargs)\n",
    "            return resultado # No importaba si retornaba un resultado nueva_funcion\n",
    "        return nueva_funcion\n",
    "    print(\"Se ha construido el decorador\")\n",
    "    return decorador"
   ]
  },
  {
   "cell_type": "code",
   "execution_count": 12,
   "metadata": {
    "collapsed": false,
    "scrolled": true
   },
   "outputs": [
    {
     "name": "stdout",
     "output_type": "stream",
     "text": [
      "Creando decorador\n",
      "Se ha construido el decorador\n",
      "Decorando función\n"
     ]
    }
   ],
   "source": [
    "@construir_decorador(2, 1)\n",
    "def funcion_a_decorar(*args , **kwargs):\n",
    "    r = random.choice([True,False])\n",
    "    print(\"Obtuvimos {0}\".format(r))\n",
    "    return r\n",
    "    "
   ]
  },
  {
   "cell_type": "code",
   "execution_count": 13,
   "metadata": {
    "collapsed": false
   },
   "outputs": [
    {
     "name": "stdout",
     "output_type": "stream",
     "text": [
      "Obtuvimos False\n",
      "Obtuvimos True\n",
      "Obtuvimos True\n"
     ]
    },
    {
     "data": {
      "text/plain": [
       "False"
      ]
     },
     "execution_count": 13,
     "metadata": {},
     "output_type": "execute_result"
    }
   ],
   "source": [
    "funcion_a_decorar()"
   ]
  },
  {
   "cell_type": "markdown",
   "metadata": {},
   "source": [
    "#### Distribución de puntaje\n",
    "- 3.5 por el constructor (menos 2 si los parámetros o el retorno es incorrecto)\n",
    "- 3.5 por el decorador (menos 2 si los parámetros o el retorno es incorrecto)\n",
    "- 3 por la función\n",
    "    - 1 decidir en función del resultado de la llamada a la función decorada\n",
    "    - 0.5 ejecutar la función `n` veces \n",
    "    - 0.5 incorporar el tiempo \n",
    "    - 1 por ejecutar bien la función (darle los parámetros correctos y tener en cuenta que es un *callable*)"
   ]
  }
 ],
 "metadata": {
  "kernelspec": {
   "display_name": "Python 3",
   "language": "python",
   "name": "python3"
  },
  "language_info": {
   "codemirror_mode": {
    "name": "ipython",
    "version": 3
   },
   "file_extension": ".py",
   "mimetype": "text/x-python",
   "name": "python",
   "nbconvert_exporter": "python",
   "pygments_lexer": "ipython3",
   "version": "3.4.3"
  }
 },
 "nbformat": 4,
 "nbformat_minor": 0
}
