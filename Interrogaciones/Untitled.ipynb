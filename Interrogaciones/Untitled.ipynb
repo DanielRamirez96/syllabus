{
 "cells": [
  {
   "cell_type": "code",
   "execution_count": null,
   "metadata": {
    "collapsed": true
   },
   "outputs": [],
   "source": [
    "import random\n",
    "\n",
    "class Nodo:\n",
    "    \n",
    "    def __init__(self, nivel):\n",
    "        self.list_hijos = list()\n",
    "        self.no_entiedo = raandom.randint\n",
    "        self.suma = len(self.lista_hijos)\n",
    "        self.nivel = nivel\n",
    "\n",
    "for prof in range(0,L):\n",
    "    while self.suma != N:\n",
    "        self.lista_hijos.append(Nodo(prof))\n",
    "\n",
    "nodo = self.raiz\n",
    "\n",
    "def rellenar(nodo, prof):\n",
    "    for nodito in self.lista_hijos:\n",
    "        while nodito.suma != N:\n",
    "            nodito.lista_hijos.append(Nodo,prof)\n",
    "    prof+=m\n",
    "    return prof"
   ]
  }
 ],
 "metadata": {
  "kernelspec": {
   "display_name": "Python 3",
   "language": "python",
   "name": "python3"
  },
  "language_info": {
   "codemirror_mode": {
    "name": "ipython",
    "version": 3
   },
   "file_extension": ".py",
   "mimetype": "text/x-python",
   "name": "python",
   "nbconvert_exporter": "python",
   "pygments_lexer": "ipython3",
   "version": "3.4.2"
  }
 },
 "nbformat": 4,
 "nbformat_minor": 0
}
